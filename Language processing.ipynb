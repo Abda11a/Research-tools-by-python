{
 "cells": [
  {
   "cell_type": "code",
   "execution_count": 5,
   "id": "8ee7de95",
   "metadata": {},
   "outputs": [],
   "source": [
    "text = \"This is my test text we are keeping this text short to keep things managable.\""
   ]
  },
  {
   "cell_type": "code",
   "execution_count": 6,
   "id": "959f89b5",
   "metadata": {},
   "outputs": [],
   "source": [
    "def count_words(text):\n",
    "    \"\"\"\n",
    "    this function help us to know uniqe words in text \n",
    "    \"\"\"\n",
    "    #make all lowercase\n",
    "    text = text.lower()\n",
    "    skips = [\".\",\",\",\";\",\":\",\"'\", '\"', \"\"]\n",
    "    for ch in skips:\n",
    "        text = text.replace(ch,\"\")\n",
    "    word_counts = {}\n",
    "    for word in text.split(\" \"):\n",
    "        if word in word_counts:\n",
    "            word_counts[word]+=1\n",
    "        else:\n",
    "            word_counts[word]=1\n",
    "    return word_counts\n",
    "    "
   ]
  },
  {
   "cell_type": "code",
   "execution_count": 7,
   "id": "d0ad85e7",
   "metadata": {},
   "outputs": [
    {
     "data": {
      "text/plain": [
       "{'this': 2,\n",
       " 'is': 1,\n",
       " 'my': 1,\n",
       " 'test': 1,\n",
       " 'text': 2,\n",
       " 'we': 1,\n",
       " 'are': 1,\n",
       " 'keeping': 1,\n",
       " 'short': 1,\n",
       " 'to': 1,\n",
       " 'keep': 1,\n",
       " 'things': 1,\n",
       " 'managable': 1}"
      ]
     },
     "execution_count": 7,
     "metadata": {},
     "output_type": "execute_result"
    }
   ],
   "source": [
    "count_words(text)"
   ]
  },
  {
   "cell_type": "code",
   "execution_count": 8,
   "id": "888a34e0",
   "metadata": {},
   "outputs": [],
   "source": [
    "text = \"This is my test text we are keeping this text short to keep things managable.\""
   ]
  },
  {
   "cell_type": "code",
   "execution_count": 9,
   "id": "ef504649",
   "metadata": {},
   "outputs": [],
   "source": [
    "from collections import Counter\n",
    "def count_words_fast(text):\n",
    "    \"\"\"\n",
    "    this function help us to know uniqe words in text with a fast code\n",
    "    \"\"\"\n",
    "    #make all lowercase\n",
    "    text = text.lower()\n",
    "    skips = [\".\",\",\",\";\",\":\",\"'\", '\"', \"\"]\n",
    "    for ch in skips:\n",
    "        text = text.replace(ch,\"\")\n",
    "    word_counts = Counter(text.split(\" \"))\n",
    "    return word_counts\n",
    "    "
   ]
  },
  {
   "cell_type": "code",
   "execution_count": 10,
   "id": "af55041a",
   "metadata": {},
   "outputs": [
    {
     "data": {
      "text/plain": [
       "Counter({'this': 2,\n",
       "         'is': 1,\n",
       "         'my': 1,\n",
       "         'test': 1,\n",
       "         'text': 2,\n",
       "         'we': 1,\n",
       "         'are': 1,\n",
       "         'keeping': 1,\n",
       "         'short': 1,\n",
       "         'to': 1,\n",
       "         'keep': 1,\n",
       "         'things': 1,\n",
       "         'managable': 1})"
      ]
     },
     "execution_count": 10,
     "metadata": {},
     "output_type": "execute_result"
    }
   ],
   "source": [
    "count_words_fast(text)"
   ]
  },
  {
   "cell_type": "code",
   "execution_count": 11,
   "id": "84fef448",
   "metadata": {},
   "outputs": [
    {
     "data": {
      "text/plain": [
       "True"
      ]
     },
     "execution_count": 11,
     "metadata": {},
     "output_type": "execute_result"
    }
   ],
   "source": [
    "## Test fuctions \\\n",
    "\n",
    "\n",
    "count_words_fast(text) == count_words(text)"
   ]
  },
  {
   "cell_type": "code",
   "execution_count": 12,
   "id": "63c62daf",
   "metadata": {},
   "outputs": [
    {
     "data": {
      "text/plain": [
       "False"
      ]
     },
     "execution_count": 12,
     "metadata": {},
     "output_type": "execute_result"
    }
   ],
   "source": [
    "count_words(text) is count_words_fast(text)\n"
   ]
  },
  {
   "cell_type": "code",
   "execution_count": null,
   "id": "c9daed6b",
   "metadata": {},
   "outputs": [],
   "source": []
  }
 ],
 "metadata": {
  "kernelspec": {
   "display_name": "Python 3.9.12 ('base')",
   "language": "python",
   "name": "python3"
  },
  "language_info": {
   "codemirror_mode": {
    "name": "ipython",
    "version": 3
   },
   "file_extension": ".py",
   "mimetype": "text/x-python",
   "name": "python",
   "nbconvert_exporter": "python",
   "pygments_lexer": "ipython3",
   "version": "3.9.12"
  },
  "vscode": {
   "interpreter": {
    "hash": "bc40bc35b6e8f5a612d99dfe98b13a5df47ad86c9d3add2736c259d236f2d570"
   }
  }
 },
 "nbformat": 4,
 "nbformat_minor": 5
}
