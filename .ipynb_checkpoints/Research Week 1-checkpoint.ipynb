{
 "cells": [
  {
   "cell_type": "code",
   "execution_count": 1,
   "id": "78a9eaaa",
   "metadata": {},
   "outputs": [],
   "source": [
    "import math\n",
    "import numpy as np"
   ]
  },
  {
   "cell_type": "code",
   "execution_count": 2,
   "id": "35f0a9ed",
   "metadata": {},
   "outputs": [],
   "source": [
    "t = (1,2,3,4)"
   ]
  },
  {
   "cell_type": "code",
   "execution_count": 3,
   "id": "cb72c6e8",
   "metadata": {},
   "outputs": [
    {
     "data": {
      "text/plain": [
       "2"
      ]
     },
     "execution_count": 3,
     "metadata": {},
     "output_type": "execute_result"
    }
   ],
   "source": [
    "t[1]"
   ]
  },
  {
   "cell_type": "code",
   "execution_count": 4,
   "id": "ce7fc592",
   "metadata": {},
   "outputs": [],
   "source": [
    "x=12.3\n",
    "y=34.3"
   ]
  },
  {
   "cell_type": "code",
   "execution_count": 5,
   "id": "4c9e5614",
   "metadata": {},
   "outputs": [],
   "source": [
    "coordinate =(x,y)"
   ]
  },
  {
   "cell_type": "code",
   "execution_count": 7,
   "id": "4544a76d",
   "metadata": {},
   "outputs": [
    {
     "data": {
      "text/plain": [
       "tuple"
      ]
     },
     "execution_count": 7,
     "metadata": {},
     "output_type": "execute_result"
    }
   ],
   "source": [
    "type(coordinate)"
   ]
  },
  {
   "cell_type": "code",
   "execution_count": 8,
   "id": "13481e8a",
   "metadata": {},
   "outputs": [],
   "source": [
    "#unpacking simple \n",
    "(c1,c2) = coordinate"
   ]
  },
  {
   "cell_type": "code",
   "execution_count": 9,
   "id": "5fdea544",
   "metadata": {},
   "outputs": [
    {
     "data": {
      "text/plain": [
       "12.3"
      ]
     },
     "execution_count": 9,
     "metadata": {},
     "output_type": "execute_result"
    }
   ],
   "source": [
    "c1"
   ]
  },
  {
   "cell_type": "code",
   "execution_count": 10,
   "id": "74509c08",
   "metadata": {},
   "outputs": [
    {
     "data": {
      "text/plain": [
       "34.3"
      ]
     },
     "execution_count": 10,
     "metadata": {},
     "output_type": "execute_result"
    }
   ],
   "source": [
    "c2"
   ]
  },
  {
   "cell_type": "code",
   "execution_count": 11,
   "id": "9877514d",
   "metadata": {},
   "outputs": [
    {
     "data": {
      "text/plain": [
       "(12.3, 34.3)"
      ]
     },
     "execution_count": 11,
     "metadata": {},
     "output_type": "execute_result"
    }
   ],
   "source": [
    "coordinate"
   ]
  },
  {
   "cell_type": "code",
   "execution_count": 12,
   "id": "92e5de5b",
   "metadata": {},
   "outputs": [
    {
     "data": {
      "text/plain": [
       "12.3"
      ]
     },
     "execution_count": 12,
     "metadata": {},
     "output_type": "execute_result"
    }
   ],
   "source": [
    "x"
   ]
  },
  {
   "cell_type": "code",
   "execution_count": 13,
   "id": "0f099b4b",
   "metadata": {},
   "outputs": [
    {
     "data": {
      "text/plain": [
       "34.3"
      ]
     },
     "execution_count": 13,
     "metadata": {},
     "output_type": "execute_result"
    }
   ],
   "source": [
    "y"
   ]
  },
  {
   "cell_type": "code",
   "execution_count": 14,
   "id": "cc8a3112",
   "metadata": {},
   "outputs": [
    {
     "data": {
      "text/plain": [
       "True"
      ]
     },
     "execution_count": 14,
     "metadata": {},
     "output_type": "execute_result"
    }
   ],
   "source": [
    "x is c1"
   ]
  },
  {
   "cell_type": "code",
   "execution_count": 15,
   "id": "9c6bbb4a",
   "metadata": {},
   "outputs": [
    {
     "data": {
      "text/plain": [
       "True"
      ]
     },
     "execution_count": 15,
     "metadata": {},
     "output_type": "execute_result"
    }
   ],
   "source": [
    "y is c2"
   ]
  },
  {
   "cell_type": "code",
   "execution_count": 16,
   "id": "39fe096b",
   "metadata": {},
   "outputs": [],
   "source": [
    "coordinates_values =[(1,1),(2,2),(3,3),(4,4)]"
   ]
  },
  {
   "cell_type": "code",
   "execution_count": 17,
   "id": "329c9b93",
   "metadata": {},
   "outputs": [
    {
     "data": {
      "text/plain": [
       "[(1, 1), (2, 2), (3, 3), (4, 4)]"
      ]
     },
     "execution_count": 17,
     "metadata": {},
     "output_type": "execute_result"
    }
   ],
   "source": [
    "coordinates_values"
   ]
  },
  {
   "cell_type": "code",
   "execution_count": 19,
   "id": "ff5c2c18",
   "metadata": {},
   "outputs": [
    {
     "name": "stdout",
     "output_type": "stream",
     "text": [
      "1 1\n",
      "2 2\n",
      "3 3\n",
      "4 4\n"
     ]
    }
   ],
   "source": [
    "#un packinig tubels in aloop\n",
    "for (x,y) in coordinates_values:\n",
    "    print (x,y)"
   ]
  },
  {
   "cell_type": "code",
   "execution_count": 20,
   "id": "fe911580",
   "metadata": {},
   "outputs": [],
   "source": [
    "c=(2,4)"
   ]
  },
  {
   "cell_type": "code",
   "execution_count": 21,
   "id": "b4001e04",
   "metadata": {},
   "outputs": [
    {
     "data": {
      "text/plain": [
       "tuple"
      ]
     },
     "execution_count": 21,
     "metadata": {},
     "output_type": "execute_result"
    }
   ],
   "source": [
    "type(c)"
   ]
  },
  {
   "cell_type": "code",
   "execution_count": 22,
   "id": "fa2d3449",
   "metadata": {},
   "outputs": [],
   "source": [
    "b=(2)"
   ]
  },
  {
   "cell_type": "code",
   "execution_count": 23,
   "id": "6cd305ef",
   "metadata": {},
   "outputs": [
    {
     "data": {
      "text/plain": [
       "int"
      ]
     },
     "execution_count": 23,
     "metadata": {},
     "output_type": "execute_result"
    }
   ],
   "source": [
    "type (b)"
   ]
  },
  {
   "cell_type": "code",
   "execution_count": 24,
   "id": "90e005a9",
   "metadata": {},
   "outputs": [],
   "source": [
    "b=(2,)"
   ]
  },
  {
   "cell_type": "code",
   "execution_count": 26,
   "id": "3190ad0b",
   "metadata": {},
   "outputs": [
    {
     "data": {
      "text/plain": [
       "tuple"
      ]
     },
     "execution_count": 26,
     "metadata": {},
     "output_type": "execute_result"
    }
   ],
   "source": [
    "type(b)"
   ]
  },
  {
   "cell_type": "code",
   "execution_count": 27,
   "id": "a074b62e",
   "metadata": {},
   "outputs": [],
   "source": [
    "x=(1,2,3)"
   ]
  },
  {
   "cell_type": "code",
   "execution_count": 32,
   "id": "da2dce56",
   "metadata": {},
   "outputs": [
    {
     "data": {
      "text/plain": [
       "int"
      ]
     },
     "execution_count": 32,
     "metadata": {},
     "output_type": "execute_result"
    }
   ],
   "source": [
    "type(2,)"
   ]
  },
  {
   "cell_type": "code",
   "execution_count": 33,
   "id": "c9ad3216",
   "metadata": {},
   "outputs": [
    {
     "data": {
      "text/plain": [
       "tuple"
      ]
     },
     "execution_count": 33,
     "metadata": {},
     "output_type": "execute_result"
    }
   ],
   "source": [
    "type((2,))"
   ]
  },
  {
   "cell_type": "code",
   "execution_count": 34,
   "id": "dbf498db",
   "metadata": {},
   "outputs": [
    {
     "data": {
      "text/plain": [
       "range(0, 5)"
      ]
     },
     "execution_count": 34,
     "metadata": {},
     "output_type": "execute_result"
    }
   ],
   "source": [
    "range(5)"
   ]
  },
  {
   "cell_type": "code",
   "execution_count": 35,
   "id": "0482f68e",
   "metadata": {},
   "outputs": [
    {
     "data": {
      "text/plain": [
       "[0, 1, 2, 3, 4]"
      ]
     },
     "execution_count": 35,
     "metadata": {},
     "output_type": "execute_result"
    }
   ],
   "source": [
    "list(range(5))"
   ]
  },
  {
   "cell_type": "code",
   "execution_count": 36,
   "id": "730c4983",
   "metadata": {},
   "outputs": [
    {
     "data": {
      "text/plain": [
       "[1, 2, 3, 4, 5]"
      ]
     },
     "execution_count": 36,
     "metadata": {},
     "output_type": "execute_result"
    }
   ],
   "source": [
    "list(range(1,6))"
   ]
  },
  {
   "cell_type": "code",
   "execution_count": 37,
   "id": "4c9f2311",
   "metadata": {},
   "outputs": [
    {
     "data": {
      "text/plain": [
       "[1, 3, 5, 7, 9, 11]"
      ]
     },
     "execution_count": 37,
     "metadata": {},
     "output_type": "execute_result"
    }
   ],
   "source": [
    "list(range(1,13,2))"
   ]
  },
  {
   "cell_type": "code",
   "execution_count": 38,
   "id": "7c1f739e",
   "metadata": {},
   "outputs": [],
   "source": [
    "s=\"python\""
   ]
  },
  {
   "cell_type": "code",
   "execution_count": 39,
   "id": "5140d6a0",
   "metadata": {},
   "outputs": [
    {
     "data": {
      "text/plain": [
       "'y'"
      ]
     },
     "execution_count": 39,
     "metadata": {},
     "output_type": "execute_result"
    }
   ],
   "source": [
    "s[1]"
   ]
  },
  {
   "cell_type": "code",
   "execution_count": 40,
   "id": "2c928ca9",
   "metadata": {},
   "outputs": [
    {
     "data": {
      "text/plain": [
       "'n'"
      ]
     },
     "execution_count": 40,
     "metadata": {},
     "output_type": "execute_result"
    }
   ],
   "source": [
    "s[-1]"
   ]
  },
  {
   "cell_type": "code",
   "execution_count": 41,
   "id": "ad0cdad1",
   "metadata": {},
   "outputs": [
    {
     "data": {
      "text/plain": [
       "'pyt'"
      ]
     },
     "execution_count": 41,
     "metadata": {},
     "output_type": "execute_result"
    }
   ],
   "source": [
    "s[0:3]"
   ]
  },
  {
   "cell_type": "code",
   "execution_count": 42,
   "id": "dd23ad3f",
   "metadata": {},
   "outputs": [
    {
     "data": {
      "text/plain": [
       "'hon'"
      ]
     },
     "execution_count": 42,
     "metadata": {},
     "output_type": "execute_result"
    }
   ],
   "source": [
    "s[-3:]"
   ]
  },
  {
   "cell_type": "code",
   "execution_count": 43,
   "id": "29efa8d3",
   "metadata": {},
   "outputs": [
    {
     "data": {
      "text/plain": [
       "'pyt'"
      ]
     },
     "execution_count": 43,
     "metadata": {},
     "output_type": "execute_result"
    }
   ],
   "source": [
    "s[:-3]"
   ]
  },
  {
   "cell_type": "code",
   "execution_count": 44,
   "id": "abae3a70",
   "metadata": {},
   "outputs": [
    {
     "data": {
      "text/plain": [
       "True"
      ]
     },
     "execution_count": 44,
     "metadata": {},
     "output_type": "execute_result"
    }
   ],
   "source": [
    "\"y\" in s"
   ]
  },
  {
   "cell_type": "code",
   "execution_count": 52,
   "id": "0a280417",
   "metadata": {},
   "outputs": [],
   "source": [
    "text = \"I will do\" + \" \" + \"What i want ,\""
   ]
  },
  {
   "cell_type": "code",
   "execution_count": 53,
   "id": "bb448466",
   "metadata": {},
   "outputs": [
    {
     "data": {
      "text/plain": [
       "'I will do What i want ,'"
      ]
     },
     "execution_count": 53,
     "metadata": {},
     "output_type": "execute_result"
    }
   ],
   "source": [
    "text"
   ]
  },
  {
   "cell_type": "code",
   "execution_count": 54,
   "id": "c04fd9c7",
   "metadata": {},
   "outputs": [
    {
     "data": {
      "text/plain": [
       "'I will do What i want ,I will do What i want ,I will do What i want ,'"
      ]
     },
     "execution_count": 54,
     "metadata": {},
     "output_type": "execute_result"
    }
   ],
   "source": [
    "text * 3"
   ]
  },
  {
   "cell_type": "code",
   "execution_count": 55,
   "id": "ff2b59ef",
   "metadata": {},
   "outputs": [
    {
     "ename": "TypeError",
     "evalue": "can only concatenate str (not \"int\") to str",
     "output_type": "error",
     "traceback": [
      "\u001b[0;31m---------------------------------------------------------------------------\u001b[0m",
      "\u001b[0;31mTypeError\u001b[0m                                 Traceback (most recent call last)",
      "Input \u001b[0;32mIn [55]\u001b[0m, in \u001b[0;36m<cell line: 1>\u001b[0;34m()\u001b[0m\n\u001b[0;32m----> 1\u001b[0m \u001b[38;5;124;43m\"\u001b[39;49m\u001b[38;5;124;43meight equal =\u001b[39;49m\u001b[38;5;124;43m\"\u001b[39;49m\u001b[43m \u001b[49m\u001b[38;5;241;43m+\u001b[39;49m\u001b[43m \u001b[49m\u001b[38;5;241;43m8\u001b[39;49m\n",
      "\u001b[0;31mTypeError\u001b[0m: can only concatenate str (not \"int\") to str"
     ]
    }
   ],
   "source": [
    "\"eight equal =\" + 8"
   ]
  },
  {
   "cell_type": "code",
   "execution_count": 57,
   "id": "71f61866",
   "metadata": {},
   "outputs": [
    {
     "data": {
      "text/plain": [
       "'eight equal = 8'"
      ]
     },
     "execution_count": 57,
     "metadata": {},
     "output_type": "execute_result"
    }
   ],
   "source": [
    "\"eight equal = \" + str(8)"
   ]
  },
  {
   "cell_type": "code",
   "execution_count": 58,
   "id": "dd983dc9",
   "metadata": {},
   "outputs": [
    {
     "data": {
      "text/plain": [
       "['__add__',\n",
       " '__class__',\n",
       " '__contains__',\n",
       " '__delattr__',\n",
       " '__dir__',\n",
       " '__doc__',\n",
       " '__eq__',\n",
       " '__format__',\n",
       " '__ge__',\n",
       " '__getattribute__',\n",
       " '__getitem__',\n",
       " '__getnewargs__',\n",
       " '__gt__',\n",
       " '__hash__',\n",
       " '__init__',\n",
       " '__init_subclass__',\n",
       " '__iter__',\n",
       " '__le__',\n",
       " '__len__',\n",
       " '__lt__',\n",
       " '__mod__',\n",
       " '__mul__',\n",
       " '__ne__',\n",
       " '__new__',\n",
       " '__reduce__',\n",
       " '__reduce_ex__',\n",
       " '__repr__',\n",
       " '__rmod__',\n",
       " '__rmul__',\n",
       " '__setattr__',\n",
       " '__sizeof__',\n",
       " '__str__',\n",
       " '__subclasshook__',\n",
       " 'capitalize',\n",
       " 'casefold',\n",
       " 'center',\n",
       " 'count',\n",
       " 'encode',\n",
       " 'endswith',\n",
       " 'expandtabs',\n",
       " 'find',\n",
       " 'format',\n",
       " 'format_map',\n",
       " 'index',\n",
       " 'isalnum',\n",
       " 'isalpha',\n",
       " 'isascii',\n",
       " 'isdecimal',\n",
       " 'isdigit',\n",
       " 'isidentifier',\n",
       " 'islower',\n",
       " 'isnumeric',\n",
       " 'isprintable',\n",
       " 'isspace',\n",
       " 'istitle',\n",
       " 'isupper',\n",
       " 'join',\n",
       " 'ljust',\n",
       " 'lower',\n",
       " 'lstrip',\n",
       " 'maketrans',\n",
       " 'partition',\n",
       " 'removeprefix',\n",
       " 'removesuffix',\n",
       " 'replace',\n",
       " 'rfind',\n",
       " 'rindex',\n",
       " 'rjust',\n",
       " 'rpartition',\n",
       " 'rsplit',\n",
       " 'rstrip',\n",
       " 'split',\n",
       " 'splitlines',\n",
       " 'startswith',\n",
       " 'strip',\n",
       " 'swapcase',\n",
       " 'title',\n",
       " 'translate',\n",
       " 'upper',\n",
       " 'zfill']"
      ]
     },
     "execution_count": 58,
     "metadata": {},
     "output_type": "execute_result"
    }
   ],
   "source": [
    "dir(str)"
   ]
  },
  {
   "cell_type": "code",
   "execution_count": 60,
   "id": "e5ed45f3",
   "metadata": {},
   "outputs": [],
   "source": [
    "str.replace?"
   ]
  },
  {
   "cell_type": "code",
   "execution_count": 61,
   "id": "523c8d12",
   "metadata": {},
   "outputs": [],
   "source": [
    "name = \"Abdullah \""
   ]
  },
  {
   "cell_type": "code",
   "execution_count": 62,
   "id": "eab848f7",
   "metadata": {},
   "outputs": [
    {
     "data": {
      "text/plain": [
       "'Abdullah '"
      ]
     },
     "execution_count": 62,
     "metadata": {},
     "output_type": "execute_result"
    }
   ],
   "source": [
    "name"
   ]
  },
  {
   "cell_type": "code",
   "execution_count": 64,
   "id": "34c475ad",
   "metadata": {},
   "outputs": [
    {
     "data": {
      "text/plain": [
       "'abdullah '"
      ]
     },
     "execution_count": 64,
     "metadata": {},
     "output_type": "execute_result"
    }
   ],
   "source": [
    "name.replace(\"A\",\"a\")"
   ]
  },
  {
   "cell_type": "code",
   "execution_count": 65,
   "id": "d95228fe",
   "metadata": {},
   "outputs": [
    {
     "data": {
      "text/plain": [
       "'Abdullah '"
      ]
     },
     "execution_count": 65,
     "metadata": {},
     "output_type": "execute_result"
    }
   ],
   "source": [
    "name"
   ]
  },
  {
   "cell_type": "code",
   "execution_count": 66,
   "id": "0305446b",
   "metadata": {},
   "outputs": [],
   "source": [
    "new_name = name.replace(\"A\",\"a\")"
   ]
  },
  {
   "cell_type": "code",
   "execution_count": 67,
   "id": "bd1ec367",
   "metadata": {},
   "outputs": [
    {
     "data": {
      "text/plain": [
       "'abdullah '"
      ]
     },
     "execution_count": 67,
     "metadata": {},
     "output_type": "execute_result"
    }
   ],
   "source": [
    "new_name"
   ]
  },
  {
   "cell_type": "code",
   "execution_count": 80,
   "id": "4b978664",
   "metadata": {},
   "outputs": [],
   "source": [
    "names = [\"Ahmed\" , \"Abdullah\"]"
   ]
  },
  {
   "cell_type": "code",
   "execution_count": 81,
   "id": "78f09f85",
   "metadata": {},
   "outputs": [
    {
     "data": {
      "text/plain": [
       "list"
      ]
     },
     "execution_count": 81,
     "metadata": {},
     "output_type": "execute_result"
    }
   ],
   "source": [
    "type(names)"
   ]
  },
  {
   "cell_type": "code",
   "execution_count": 82,
   "id": "6cf35f41",
   "metadata": {},
   "outputs": [
    {
     "data": {
      "text/plain": [
       "'Ahmed'"
      ]
     },
     "execution_count": 82,
     "metadata": {},
     "output_type": "execute_result"
    }
   ],
   "source": [
    "names[0]"
   ]
  },
  {
   "cell_type": "code",
   "execution_count": 83,
   "id": "d276a686",
   "metadata": {},
   "outputs": [
    {
     "data": {
      "text/plain": [
       "2"
      ]
     },
     "execution_count": 83,
     "metadata": {},
     "output_type": "execute_result"
    }
   ],
   "source": [
    "len(names)"
   ]
  },
  {
   "cell_type": "code",
   "execution_count": 84,
   "id": "f694db74",
   "metadata": {},
   "outputs": [
    {
     "data": {
      "text/plain": [
       "'AHMED'"
      ]
     },
     "execution_count": 84,
     "metadata": {},
     "output_type": "execute_result"
    }
   ],
   "source": [
    "names[0].upper()"
   ]
  },
  {
   "cell_type": "code",
   "execution_count": 85,
   "id": "30c0d7dc",
   "metadata": {},
   "outputs": [
    {
     "data": {
      "text/plain": [
       "'Ahmed'"
      ]
     },
     "execution_count": 85,
     "metadata": {},
     "output_type": "execute_result"
    }
   ],
   "source": [
    "names[0]"
   ]
  },
  {
   "cell_type": "markdown",
   "id": "8b6eefb4",
   "metadata": {},
   "source": []
  },
  {
   "cell_type": "code",
   "execution_count": 86,
   "id": "6e760b84",
   "metadata": {},
   "outputs": [
    {
     "data": {
      "text/plain": [
       "'Ahmed'"
      ]
     },
     "execution_count": 86,
     "metadata": {},
     "output_type": "execute_result"
    }
   ],
   "source": [
    "names[0]"
   ]
  },
  {
   "cell_type": "code",
   "execution_count": 87,
   "id": "4011de46",
   "metadata": {},
   "outputs": [
    {
     "data": {
      "text/plain": [
       "'0123456789'"
      ]
     },
     "execution_count": 87,
     "metadata": {},
     "output_type": "execute_result"
    }
   ],
   "source": [
    "\"\".join([str(i) for i in range(10)])"
   ]
  },
  {
   "cell_type": "code",
   "execution_count": 88,
   "id": "73362d94",
   "metadata": {},
   "outputs": [
    {
     "data": {
      "text/plain": [
       "'range(0, 10)'"
      ]
     },
     "execution_count": 88,
     "metadata": {},
     "output_type": "execute_result"
    }
   ],
   "source": [
    "str(range(10))"
   ]
  },
  {
   "cell_type": "code",
   "execution_count": 98,
   "id": "2bc7029b",
   "metadata": {},
   "outputs": [],
   "source": [
    "x = \"125000\""
   ]
  },
  {
   "cell_type": "code",
   "execution_count": 99,
   "id": "3cd347f5",
   "metadata": {},
   "outputs": [
    {
     "data": {
      "text/plain": [
       "True"
      ]
     },
     "execution_count": 99,
     "metadata": {},
     "output_type": "execute_result"
    }
   ],
   "source": [
    "x.isdigit()"
   ]
  },
  {
   "cell_type": "code",
   "execution_count": 100,
   "id": "3c778741",
   "metadata": {},
   "outputs": [],
   "source": [
    "ids = set()"
   ]
  },
  {
   "cell_type": "code",
   "execution_count": 101,
   "id": "72ce06bd",
   "metadata": {},
   "outputs": [],
   "source": [
    "ids = set([1,2,3,4,5,6,7,8,9])"
   ]
  },
  {
   "cell_type": "code",
   "execution_count": 102,
   "id": "1e305c81",
   "metadata": {},
   "outputs": [
    {
     "data": {
      "text/plain": [
       "{1, 2, 3, 4, 5, 6, 7, 8, 9}"
      ]
     },
     "execution_count": 102,
     "metadata": {},
     "output_type": "execute_result"
    }
   ],
   "source": [
    "ids"
   ]
  },
  {
   "cell_type": "code",
   "execution_count": 103,
   "id": "aee2559d",
   "metadata": {},
   "outputs": [
    {
     "data": {
      "text/plain": [
       "9"
      ]
     },
     "execution_count": 103,
     "metadata": {},
     "output_type": "execute_result"
    }
   ],
   "source": [
    "len(ids)"
   ]
  },
  {
   "cell_type": "code",
   "execution_count": 104,
   "id": "7dd8e1ee",
   "metadata": {},
   "outputs": [],
   "source": [
    "ids.add(10)"
   ]
  },
  {
   "cell_type": "code",
   "execution_count": 105,
   "id": "b16d85ac",
   "metadata": {},
   "outputs": [
    {
     "data": {
      "text/plain": [
       "10"
      ]
     },
     "execution_count": 105,
     "metadata": {},
     "output_type": "execute_result"
    }
   ],
   "source": [
    "len(ids)"
   ]
  },
  {
   "cell_type": "code",
   "execution_count": 111,
   "id": "0fec60b5",
   "metadata": {},
   "outputs": [],
   "source": [
    "ids = set(range(11))"
   ]
  },
  {
   "cell_type": "code",
   "execution_count": 112,
   "id": "cd74a061",
   "metadata": {},
   "outputs": [
    {
     "data": {
      "text/plain": [
       "{0, 1, 2, 3, 4, 5, 6, 7, 8, 9, 10}"
      ]
     },
     "execution_count": 112,
     "metadata": {},
     "output_type": "execute_result"
    }
   ],
   "source": [
    "ids"
   ]
  },
  {
   "cell_type": "code",
   "execution_count": 113,
   "id": "acd1c082",
   "metadata": {},
   "outputs": [],
   "source": [
    "males = set(range(0,11,2))"
   ]
  },
  {
   "cell_type": "code",
   "execution_count": 114,
   "id": "a927e60b",
   "metadata": {},
   "outputs": [
    {
     "data": {
      "text/plain": [
       "{0, 2, 4, 6, 8, 10}"
      ]
     },
     "execution_count": 114,
     "metadata": {},
     "output_type": "execute_result"
    }
   ],
   "source": [
    "males"
   ]
  },
  {
   "cell_type": "code",
   "execution_count": 115,
   "id": "bd5f568b",
   "metadata": {},
   "outputs": [],
   "source": [
    "females = ids - males"
   ]
  },
  {
   "cell_type": "code",
   "execution_count": 116,
   "id": "dacbfea4",
   "metadata": {},
   "outputs": [
    {
     "data": {
      "text/plain": [
       "{1, 3, 5, 7, 9}"
      ]
     },
     "execution_count": 116,
     "metadata": {},
     "output_type": "execute_result"
    }
   ],
   "source": [
    "females"
   ]
  },
  {
   "cell_type": "code",
   "execution_count": 117,
   "id": "7ca3cc69",
   "metadata": {},
   "outputs": [],
   "source": [
    "#union way\n",
    "everyone = males | females"
   ]
  },
  {
   "cell_type": "code",
   "execution_count": 118,
   "id": "126d10b4",
   "metadata": {},
   "outputs": [
    {
     "data": {
      "text/plain": [
       "{0, 1, 2, 3, 4, 5, 6, 7, 8, 9, 10}"
      ]
     },
     "execution_count": 118,
     "metadata": {},
     "output_type": "execute_result"
    }
   ],
   "source": [
    "everyone"
   ]
  },
  {
   "cell_type": "code",
   "execution_count": 119,
   "id": "979050aa",
   "metadata": {},
   "outputs": [
    {
     "data": {
      "text/plain": [
       "set"
      ]
     },
     "execution_count": 119,
     "metadata": {},
     "output_type": "execute_result"
    }
   ],
   "source": [
    "type (everyone)"
   ]
  },
  {
   "cell_type": "code",
   "execution_count": 122,
   "id": "d4504b1c",
   "metadata": {},
   "outputs": [
    {
     "data": {
      "text/plain": [
       "{1, 2, 3}"
      ]
     },
     "execution_count": 122,
     "metadata": {},
     "output_type": "execute_result"
    }
   ],
   "source": [
    "everyone & set([1,2,3])"
   ]
  },
  {
   "cell_type": "code",
   "execution_count": 123,
   "id": "32df2d51",
   "metadata": {},
   "outputs": [],
   "source": [
    "words = \"iwillbehereaftertenmenits\""
   ]
  },
  {
   "cell_type": "code",
   "execution_count": 126,
   "id": "5ee0fc91",
   "metadata": {},
   "outputs": [],
   "source": [
    "letters = set(words)"
   ]
  },
  {
   "cell_type": "code",
   "execution_count": 127,
   "id": "cd1e3102",
   "metadata": {},
   "outputs": [
    {
     "data": {
      "text/plain": [
       "set"
      ]
     },
     "execution_count": 127,
     "metadata": {},
     "output_type": "execute_result"
    }
   ],
   "source": [
    "type(letters) "
   ]
  },
  {
   "cell_type": "code",
   "execution_count": 129,
   "id": "62971158",
   "metadata": {},
   "outputs": [
    {
     "data": {
      "text/plain": [
       "13"
      ]
     },
     "execution_count": 129,
     "metadata": {},
     "output_type": "execute_result"
    }
   ],
   "source": [
    "# it will be count numbers of uniqe strings\n",
    "len(letters)"
   ]
  },
  {
   "cell_type": "code",
   "execution_count": null,
   "id": "1d180c63",
   "metadata": {},
   "outputs": [],
   "source": []
  }
 ],
 "metadata": {
  "kernelspec": {
   "display_name": "Python 3 (ipykernel)",
   "language": "python",
   "name": "python3"
  },
  "language_info": {
   "codemirror_mode": {
    "name": "ipython",
    "version": 3
   },
   "file_extension": ".py",
   "mimetype": "text/x-python",
   "name": "python",
   "nbconvert_exporter": "python",
   "pygments_lexer": "ipython3",
   "version": "3.9.12"
  }
 },
 "nbformat": 4,
 "nbformat_minor": 5
}
